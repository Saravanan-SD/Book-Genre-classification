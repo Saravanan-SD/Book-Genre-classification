{
 "cells": [
  {
   "cell_type": "code",
   "execution_count": 1,
   "id": "eca89200-4d83-4a21-bd6e-3ebd308e650c",
   "metadata": {},
   "outputs": [],
   "source": [
    "import pandas as pd\n",
    "import numpy as np\n",
    "import seaborn as sn\n",
    "import matplotlib.pyplot as plt\n",
    "import re\n",
    "import nltk\n",
    "from collections import Counter\n",
    "from sklearn.feature_extraction.text import TfidfVectorizer, CountVectorizer\n",
    "from sklearn.model_selection import train_test_split\n",
    "from sklearn.tree import DecisionTreeClassifier\n",
    "from sklearn.ensemble import RandomForestClassifier\n",
    "from sklearn.naive_bayes import GaussianNB,MultinomialNB\n",
    "from sklearn.svm import SVC\n",
    "from sklearn import metrics"
   ]
  },
  {
   "cell_type": "code",
   "execution_count": 2,
   "id": "1aa6e293-3f54-40c4-b7a2-c9790d692b6c",
   "metadata": {},
   "outputs": [
    {
     "data": {
      "text/html": [
       "<div>\n",
       "<style scoped>\n",
       "    .dataframe tbody tr th:only-of-type {\n",
       "        vertical-align: middle;\n",
       "    }\n",
       "\n",
       "    .dataframe tbody tr th {\n",
       "        vertical-align: top;\n",
       "    }\n",
       "\n",
       "    .dataframe thead th {\n",
       "        text-align: right;\n",
       "    }\n",
       "</style>\n",
       "<table border=\"1\" class=\"dataframe\">\n",
       "  <thead>\n",
       "    <tr style=\"text-align: right;\">\n",
       "      <th></th>\n",
       "      <th>Unnamed: 0</th>\n",
       "      <th>book_id</th>\n",
       "      <th>book_name</th>\n",
       "      <th>genre</th>\n",
       "      <th>summary</th>\n",
       "    </tr>\n",
       "  </thead>\n",
       "  <tbody>\n",
       "    <tr>\n",
       "      <th>0</th>\n",
       "      <td>0</td>\n",
       "      <td>3248537</td>\n",
       "      <td>Drowned Wednesday</td>\n",
       "      <td>Fantasy</td>\n",
       "      <td>Drowned Wednesday is the first Trustee among ...</td>\n",
       "    </tr>\n",
       "    <tr>\n",
       "      <th>1</th>\n",
       "      <td>1</td>\n",
       "      <td>27796919</td>\n",
       "      <td>The Lost Hero</td>\n",
       "      <td>Fantasy</td>\n",
       "      <td>As the book opens, Jason awakens on a school ...</td>\n",
       "    </tr>\n",
       "    <tr>\n",
       "      <th>2</th>\n",
       "      <td>2</td>\n",
       "      <td>3910776</td>\n",
       "      <td>The Eyes of the Overworld</td>\n",
       "      <td>Fantasy</td>\n",
       "      <td>Cugel is easily persuaded by the merchant Fia...</td>\n",
       "    </tr>\n",
       "    <tr>\n",
       "      <th>3</th>\n",
       "      <td>3</td>\n",
       "      <td>5969644</td>\n",
       "      <td>Magic's Promise</td>\n",
       "      <td>Fantasy</td>\n",
       "      <td>The book opens with Herald-Mage Vanyel return...</td>\n",
       "    </tr>\n",
       "    <tr>\n",
       "      <th>4</th>\n",
       "      <td>4</td>\n",
       "      <td>3173445</td>\n",
       "      <td>Taran Wanderer</td>\n",
       "      <td>Fantasy</td>\n",
       "      <td>Taran and Gurgi have returned to Caer Dallben...</td>\n",
       "    </tr>\n",
       "  </tbody>\n",
       "</table>\n",
       "</div>"
      ],
      "text/plain": [
       "   Unnamed: 0   book_id                  book_name    genre  \\\n",
       "0           0   3248537          Drowned Wednesday  Fantasy   \n",
       "1           1  27796919              The Lost Hero  Fantasy   \n",
       "2           2   3910776  The Eyes of the Overworld  Fantasy   \n",
       "3           3   5969644            Magic's Promise  Fantasy   \n",
       "4           4   3173445             Taran Wanderer  Fantasy   \n",
       "\n",
       "                                             summary  \n",
       "0   Drowned Wednesday is the first Trustee among ...  \n",
       "1   As the book opens, Jason awakens on a school ...  \n",
       "2   Cugel is easily persuaded by the merchant Fia...  \n",
       "3   The book opens with Herald-Mage Vanyel return...  \n",
       "4   Taran and Gurgi have returned to Caer Dallben...  "
      ]
     },
     "execution_count": 2,
     "metadata": {},
     "output_type": "execute_result"
    }
   ],
   "source": [
    "books= pd.read_csv('BooksDataSet.csv')\n",
    "books.head()"
   ]
  },
  {
   "cell_type": "code",
   "execution_count": 3,
   "id": "a0385253-3184-41b4-86e2-9074ae735cb9",
   "metadata": {},
   "outputs": [
    {
     "data": {
      "text/html": [
       "<div>\n",
       "<style scoped>\n",
       "    .dataframe tbody tr th:only-of-type {\n",
       "        vertical-align: middle;\n",
       "    }\n",
       "\n",
       "    .dataframe tbody tr th {\n",
       "        vertical-align: top;\n",
       "    }\n",
       "\n",
       "    .dataframe thead th {\n",
       "        text-align: right;\n",
       "    }\n",
       "</style>\n",
       "<table border=\"1\" class=\"dataframe\">\n",
       "  <thead>\n",
       "    <tr style=\"text-align: right;\">\n",
       "      <th></th>\n",
       "      <th>book_id</th>\n",
       "      <th>book_name</th>\n",
       "      <th>genre</th>\n",
       "      <th>summary</th>\n",
       "    </tr>\n",
       "  </thead>\n",
       "  <tbody>\n",
       "    <tr>\n",
       "      <th>0</th>\n",
       "      <td>3248537</td>\n",
       "      <td>Drowned Wednesday</td>\n",
       "      <td>Fantasy</td>\n",
       "      <td>Drowned Wednesday is the first Trustee among ...</td>\n",
       "    </tr>\n",
       "    <tr>\n",
       "      <th>1</th>\n",
       "      <td>27796919</td>\n",
       "      <td>The Lost Hero</td>\n",
       "      <td>Fantasy</td>\n",
       "      <td>As the book opens, Jason awakens on a school ...</td>\n",
       "    </tr>\n",
       "    <tr>\n",
       "      <th>2</th>\n",
       "      <td>3910776</td>\n",
       "      <td>The Eyes of the Overworld</td>\n",
       "      <td>Fantasy</td>\n",
       "      <td>Cugel is easily persuaded by the merchant Fia...</td>\n",
       "    </tr>\n",
       "  </tbody>\n",
       "</table>\n",
       "</div>"
      ],
      "text/plain": [
       "    book_id                  book_name    genre  \\\n",
       "0   3248537          Drowned Wednesday  Fantasy   \n",
       "1  27796919              The Lost Hero  Fantasy   \n",
       "2   3910776  The Eyes of the Overworld  Fantasy   \n",
       "\n",
       "                                             summary  \n",
       "0   Drowned Wednesday is the first Trustee among ...  \n",
       "1   As the book opens, Jason awakens on a school ...  \n",
       "2   Cugel is easily persuaded by the merchant Fia...  "
      ]
     },
     "execution_count": 3,
     "metadata": {},
     "output_type": "execute_result"
    }
   ],
   "source": [
    "books=books[['book_id', 'book_name', 'genre', 'summary']]\n",
    "books.head(3)"
   ]
  },
  {
   "cell_type": "code",
   "execution_count": 4,
   "id": "cd58cf7b-5b6e-4b50-9280-e34b11484535",
   "metadata": {},
   "outputs": [
    {
     "name": "stderr",
     "output_type": "stream",
     "text": [
      "C:\\Users\\csvel\\AppData\\Local\\Temp\\ipykernel_25308\\2698657169.py:1: FutureWarning: \n",
      "\n",
      "Passing `palette` without assigning `hue` is deprecated and will be removed in v0.14.0. Assign the `x` variable to `hue` and set `legend=False` for the same effect.\n",
      "\n",
      "  sn.countplot(x= books['genre'], palette='plasma')\n"
     ]
    },
    {
     "data": {
      "text/plain": [
       "([0, 1, 2, 3, 4, 5],\n",
       " [Text(0, 0, 'Fantasy'),\n",
       "  Text(1, 0, 'Science Fiction'),\n",
       "  Text(2, 0, 'Crime Fiction'),\n",
       "  Text(3, 0, 'Historical novel'),\n",
       "  Text(4, 0, 'Horror'),\n",
       "  Text(5, 0, 'Thriller')])"
      ]
     },
     "execution_count": 4,
     "metadata": {},
     "output_type": "execute_result"
    },
    {
     "data": {
      "image/png": "[encoded data removed]",
      "text/plain": [
       "<Figure size 640x480 with 1 Axes>"
      ]
     },
     "metadata": {},
     "output_type": "display_data"
    }
   ],
   "source": [
    "sn.countplot(x= books['genre'], palette='plasma')\n",
    "plt.xticks(rotation= 'vertical')"
   ]
  },
  {
   "cell_type": "code",
   "execution_count": 5,
   "id": "31098280-99e4-4715-8b7c-b284df063ce7",
   "metadata": {},
   "outputs": [
    {
     "data": {
      "text/plain": [
       "' As the book opens, Jason awakens on a school bus, unable to remember who or where he is, or anything about his past. He is sitting next to Piper McLean and Leo Valdez, who call him by name and say they are his girlfriend and best friend respectively. All three are part of a class field trip to the Grand Canyon, and after they arrive, a classmate Dylan turns into a Venti (Storm Spirit) and attacks the trio and their trip leader, Coach Gleeson Hedge. In the ensuing fight, Jason surprises everyone, including himself, when one of his coins turns into a sword which he uses to battle the storm spirits. Coach Hedge, who reveals himself to be a satyr during the fight, is taken captive by a fleeing spirit. After the battle, a flying chariot arrives to rescue the trio, but one of the people in it, Annabeth, is upset when she discovers that her missing boyfriend, Percy Jackson, is not there as she expected. Annabeth, seeking Percy, was told in a vision from the goddess Hera to look there for the \"guy with one shoe\", but this turns out to be Jason, who had a shoe destroyed during the fight. Jason, Piper,and Leo are told that they are demigods and are taken back to Camp Half-Blood where they meet other greek demigod children like themselves. There, Leo is revealed as a son of Hephaestus, Piper as a daughter of Aphrodite and Jason as a son of Zeus, though Hera tells him he is her champion. Jason later discovers that he is the full brother of Zeus\\'s demigod daughter Thalia Grace, who is a Hunter of Artemis. Shortly after they arrive, the three are given a quest to rescue Hera, who has been captured, and they set off. They soon discover that their enemies are working under orders from Gaea to overthrow the gods. During their quest, they encounter Thalia and the Hunters, who have been looking for Percy. Thalia and Jason reunite for the first since Jason was captured at the age of two. On the way to Aeolus\\'s castle, Jason, Leo and Piper become separated from Thalia, who promises to meet them at the Wolf House, the last place Thalia had seen Jason before this meeting. After being nearly apprehended by Aeolus, who is under Gaea\\'s orders, the trio manage to escape thanks to Mellie, Aeolus`s former assistant, and end up in San Francisco, thanks to the result of a dream Piper had with Aphrodite. After landing in San Francisco, the trio rush to Mt.Diablo to fight the giant Enceladus, who has kidnapped Piper\\'s father. They manage to kill the giant and save Piper\\'s father, after which they rush to the Wolf House to free Hera. Although the heroes and the Hunters save Hera, the king of the giants, Porphyrion, rises fully and disappears into a hole in the Earth. Jason\\'s memory then starts returning, and he remembers that he is a hero from a Roman counterpart to Camp Half-Blood somewhere near San Francisco, and is the son of Jupiter, Zeus\\'s Roman aspect. He realizes that Hera, also known as Juno, has switched him with Percy Jackson, who will be at the Roman camp with no memory of his life, in the hopes that the two camps would ultimately work together to fight the giants and defeat the goddess Gaea.'"
      ]
     },
     "execution_count": 5,
     "metadata": {},
     "output_type": "execute_result"
    }
   ],
   "source": [
    "books['summary'].iloc[1]"
   ]
  },
  {
   "cell_type": "code",
   "execution_count": 6,
   "id": "fb4b4fc4-91a3-4f8e-bdac-39158546babd",
   "metadata": {},
   "outputs": [],
   "source": [
    "## Cleaning the text\n",
    "\n",
    "def cleantext(text):\n",
    "\n",
    "    text=re.sub(r'[^\\w\\s]', '', text)\n",
    "\n",
    "    test =re.sub(\"[^a-zA-Z]\",\" \",text)\n",
    "\n",
    "    text=' '.join(text.split())\n",
    "\n",
    "    text=text.lower()\n",
    "\n",
    "    return text"
   ]
  },
  {
   "cell_type": "code",
   "execution_count": 7,
   "id": "1dc2d0cd-f486-4bcf-b9bc-257d4322b063",
   "metadata": {},
   "outputs": [
    {
     "data": {
      "text/plain": [
       "'as the book opens jason awakens on a school bus unable to remember who or where he is or anything about his past he is sitting next to piper mclean and leo valdez who call him by name and say they are his girlfriend and best friend respectively all three are part of a class field trip to the grand canyon and after they arrive a classmate dylan turns into a venti storm spirit and attacks the trio and their trip leader coach gleeson hedge in the ensuing fight jason surprises everyone including himself when one of his coins turns into a sword which he uses to battle the storm spirits coach hedge who reveals himself to be a satyr during the fight is taken captive by a fleeing spirit after the battle a flying chariot arrives to rescue the trio but one of the people in it annabeth is upset when she discovers that her missing boyfriend percy jackson is not there as she expected annabeth seeking percy was told in a vision from the goddess hera to look there for the guy with one shoe but this turns out to be jason who had a shoe destroyed during the fight jason piperand leo are told that they are demigods and are taken back to camp halfblood where they meet other greek demigod children like themselves there leo is revealed as a son of hephaestus piper as a daughter of aphrodite and jason as a son of zeus though hera tells him he is her champion jason later discovers that he is the full brother of zeuss demigod daughter thalia grace who is a hunter of artemis shortly after they arrive the three are given a quest to rescue hera who has been captured and they set off they soon discover that their enemies are working under orders from gaea to overthrow the gods during their quest they encounter thalia and the hunters who have been looking for percy thalia and jason reunite for the first since jason was captured at the age of two on the way to aeoluss castle jason leo and piper become separated from thalia who promises to meet them at the wolf house the last place thalia had seen jason before this meeting after being nearly apprehended by aeolus who is under gaeas orders the trio manage to escape thanks to mellie aeoluss former assistant and end up in san francisco thanks to the result of a dream piper had with aphrodite after landing in san francisco the trio rush to mtdiablo to fight the giant enceladus who has kidnapped pipers father they manage to kill the giant and save pipers father after which they rush to the wolf house to free hera although the heroes and the hunters save hera the king of the giants porphyrion rises fully and disappears into a hole in the earth jasons memory then starts returning and he remembers that he is a hero from a roman counterpart to camp halfblood somewhere near san francisco and is the son of jupiter zeuss roman aspect he realizes that hera also known as juno has switched him with percy jackson who will be at the roman camp with no memory of his life in the hopes that the two camps would ultimately work together to fight the giants and defeat the goddess gaea'"
      ]
     },
     "execution_count": 7,
     "metadata": {},
     "output_type": "execute_result"
    }
   ],
   "source": [
    "books['summary']=books['summary'].apply(lambda x:cleantext(x))\n",
    "books['summary'].iloc[1]"
   ]
  },
  {
   "cell_type": "code",
   "execution_count": 8,
   "id": "f663e554-138b-4bde-8f0b-efa5faff48ef",
   "metadata": {},
   "outputs": [
    {
     "data": {
      "image/png": "[encoded data removed]",
      "text/plain": [
       "<Figure size 700x500 with 1 Axes>"
      ]
     },
     "metadata": {},
     "output_type": "display_data"
    }
   ],
   "source": [
    "def showmostfrequentwords(text,no_of_words):\n",
    "    \n",
    "    allwords = ''.join([char for char in text])\n",
    "    allwords = allwords.split()\n",
    "    fdist = nltk.FreqDist(allwords)\n",
    "    \n",
    "    wordsdf = pd.DataFrame({'word':list(fdist.keys()),'count':list(fdist.values())})\n",
    "    \n",
    "    df = wordsdf.nlargest(columns=\"count\",n = no_of_words)\n",
    "    \n",
    "    plt.figure(figsize=(7,5))\n",
    "    ax = sn.barplot(data=df,x = 'count',y = 'word')\n",
    "    ax.set(ylabel = 'Word')\n",
    "    plt.show()\n",
    "    \n",
    "    return wordsdf\n",
    "    \n",
    "    \n",
    "# 25 most frequent words\n",
    "\n",
    "wordsdf = showmostfrequentwords(books['summary'],25)"
   ]
  },
  {
   "cell_type": "code",
   "execution_count": 9,
   "id": "ed581d15-b30a-4187-8adf-3ac1ad284c50",
   "metadata": {},
   "outputs": [
    {
     "name": "stderr",
     "output_type": "stream",
     "text": [
      "[nltk_data] Downloading package stopwords to\n",
      "[nltk_data]     C:\\Users\\csvel\\anaconda3\\envs\\tfgpu\\nltk_data...\n",
      "[nltk_data]   Unzipping corpora\\stopwords.zip.\n"
     ]
    },
    {
     "data": {
      "text/plain": [
       "True"
      ]
     },
     "execution_count": 9,
     "metadata": {},
     "output_type": "execute_result"
    }
   ],
   "source": [
    "nltk.download('stopwords')"
   ]
  },
  {
   "cell_type": "code",
   "execution_count": 10,
   "id": "7cb0f979-035c-4b55-8e17-eea7c200e150",
   "metadata": {},
   "outputs": [
    {
     "data": {
      "text/plain": [
       "'book opens jason awakens school bus unable remember anything past sitting next piper mclean leo valdez call name say girlfriend best friend respectively three part class field trip grand canyon arrive classmate dylan turns venti storm spirit attacks trio trip leader coach gleeson hedge ensuing fight jason surprises everyone including one coins turns sword uses battle storm spirits coach hedge reveals satyr fight taken captive fleeing spirit battle flying chariot arrives rescue trio one people annabeth upset discovers missing boyfriend percy jackson expected annabeth seeking percy told vision goddess hera look guy one shoe turns jason shoe destroyed fight jason piperand leo told demigods taken back camp halfblood meet greek demigod children like leo revealed son hephaestus piper daughter aphrodite jason son zeus though hera tells champion jason later discovers full brother zeuss demigod daughter thalia grace hunter artemis shortly arrive three given quest rescue hera captured set soon discover enemies working orders gaea overthrow gods quest encounter thalia hunters looking percy thalia jason reunite first since jason captured age two way aeoluss castle jason leo piper become separated thalia promises meet wolf house last place thalia seen jason meeting nearly apprehended aeolus gaeas orders trio manage escape thanks mellie aeoluss former assistant end san francisco thanks result dream piper aphrodite landing san francisco trio rush mtdiablo fight giant enceladus kidnapped pipers father manage kill giant save pipers father rush wolf house free hera although heroes hunters save hera king giants porphyrion rises fully disappears hole earth jasons memory starts returning remembers hero roman counterpart camp halfblood somewhere near san francisco son jupiter zeuss roman aspect realizes hera also known juno switched percy jackson roman camp memory life hopes two camps would ultimately work together fight giants defeat goddess gaea'"
      ]
     },
     "execution_count": 10,
     "metadata": {},
     "output_type": "execute_result"
    }
   ],
   "source": [
    "#Removing Stop Words\n",
    "\n",
    "from nltk.corpus import stopwords\n",
    "stop_words=set(stopwords.words('english'))\n",
    "\n",
    "#removing the stopwords\n",
    "\n",
    "def removestopwords(text):\n",
    "\n",
    "    removedstopword= [word for word in text.split(' ') if word not in stop_words]\n",
    "    return ' '.join(removedstopword)\n",
    "\n",
    "books['summary'] = books['summary'].apply(lambda x:removestopwords(x))\n",
    "books['summary'].iloc[1]"
   ]
  },
  {
   "cell_type": "markdown",
   "id": "8717eb43-e553-4382-aa64-238a336d4cbe",
   "metadata": {},
   "source": [
    "### LEMMATIZING"
   ]
  },
  {
   "cell_type": "code",
   "execution_count": 11,
   "id": "19483492-ccd9-4959-8eef-b4268971ea50",
   "metadata": {},
   "outputs": [
    {
     "name": "stderr",
     "output_type": "stream",
     "text": [
      "[nltk_data] Downloading package wordnet to\n",
      "[nltk_data]     C:\\Users\\csvel\\anaconda3\\envs\\tfgpu\\nltk_data...\n",
      "[nltk_data]   Package wordnet is already up-to-date!\n"
     ]
    }
   ],
   "source": [
    "nltk.download('wordnet',download_dir='C:\\\\Users\\\\csvel\\\\anaconda3\\\\envs\\\\tfgpu\\\\nltk_data')\n",
    "nltk.data.path.append(\"corpora\")\n",
    "from nltk.stem import WordNetLemmatizer\n",
    "lemma=WordNetLemmatizer()\n",
    "\n",
    "def lematizing(sentence):\n",
    "    stemsentence=\"\"\n",
    "    for word in sentence.split():\n",
    "        stem=lemma.lemmatize(word)\n",
    "        stemsentence +=stem\n",
    "        stemsentence+= \" \"\n",
    "    stemsentence=stemsentence.strip()\n",
    "    return stemsentence\n",
    "\n",
    "books['summary']=books['summary'].apply(lambda x:lematizing(x))"
   ]
  },
  {
   "cell_type": "code",
   "execution_count": 12,
   "id": "44bf49e0-b110-4190-992c-e830a7f8c11e",
   "metadata": {},
   "outputs": [
    {
     "data": {
      "text/plain": [
       "'book open jason awakens school bus unable remember anything past sitting next piper mclean leo valdez call name say girlfriend best friend respectively three part class field trip grand canyon arrive classmate dylan turn venti storm spirit attack trio trip leader coach gleeson hedge ensuing fight jason surprise everyone including one coin turn sword us battle storm spirit coach hedge reveals satyr fight taken captive fleeing spirit battle flying chariot arrives rescue trio one people annabeth upset discovers missing boyfriend percy jackson expected annabeth seeking percy told vision goddess hera look guy one shoe turn jason shoe destroyed fight jason piperand leo told demigod taken back camp halfblood meet greek demigod child like leo revealed son hephaestus piper daughter aphrodite jason son zeus though hera tell champion jason later discovers full brother zeus demigod daughter thalia grace hunter artemis shortly arrive three given quest rescue hera captured set soon discover enemy working order gaea overthrow god quest encounter thalia hunter looking percy thalia jason reunite first since jason captured age two way aeolus castle jason leo piper become separated thalia promise meet wolf house last place thalia seen jason meeting nearly apprehended aeolus gaea order trio manage escape thanks mellie aeolus former assistant end san francisco thanks result dream piper aphrodite landing san francisco trio rush mtdiablo fight giant enceladus kidnapped piper father manage kill giant save piper father rush wolf house free hera although hero hunter save hera king giant porphyrion rise fully disappears hole earth jason memory start returning remembers hero roman counterpart camp halfblood somewhere near san francisco son jupiter zeus roman aspect realizes hera also known juno switched percy jackson roman camp memory life hope two camp would ultimately work together fight giant defeat goddess gaea'"
      ]
     },
     "execution_count": 12,
     "metadata": {},
     "output_type": "execute_result"
    }
   ],
   "source": [
    "books['summary'].iloc[1]"
   ]
  },
  {
   "cell_type": "markdown",
   "id": "a2c57ace-637c-40db-a491-43dfa8707138",
   "metadata": {},
   "source": [
    "### Stemming"
   ]
  },
  {
   "cell_type": "code",
   "execution_count": 13,
   "id": "412cc113-98f3-47db-9e25-781af43048af",
   "metadata": {},
   "outputs": [
    {
     "data": {
      "text/plain": [
       "'book open jason awaken school bu unabl rememb anyth past sit next piper mclean leo valdez call name say girlfriend best friend respect three part class field trip grand canyon arriv classmat dylan turn venti storm spirit attack trio trip leader coach gleeson hedg ensu fight jason surpris everyon includ one coin turn sword us battl storm spirit coach hedg reveal satyr fight taken captiv flee spirit battl fli chariot arriv rescu trio one peopl annabeth upset discov miss boyfriend perci jackson expect annabeth seek perci told vision goddess hera look guy one shoe turn jason shoe destroy fight jason piperand leo told demigod taken back camp halfblood meet greek demigod child like leo reveal son hephaestu piper daughter aphrodit jason son zeu though hera tell champion jason later discov full brother zeu demigod daughter thalia grace hunter artemi shortli arriv three given quest rescu hera captur set soon discov enemi work order gaea overthrow god quest encount thalia hunter look perci thalia jason reunit first sinc jason captur age two way aeolu castl jason leo piper becom separ thalia promis meet wolf hous last place thalia seen jason meet nearli apprehend aeolu gaea order trio manag escap thank melli aeolu former assist end san francisco thank result dream piper aphrodit land san francisco trio rush mtdiablo fight giant enceladu kidnap piper father manag kill giant save piper father rush wolf hous free hera although hero hunter save hera king giant porphyrion rise fulli disappear hole earth jason memori start return rememb hero roman counterpart camp halfblood somewher near san francisco son jupit zeu roman aspect realiz hera also known juno switch perci jackson roman camp memori life hope two camp would ultim work togeth fight giant defeat goddess gaea'"
      ]
     },
     "execution_count": 13,
     "metadata": {},
     "output_type": "execute_result"
    }
   ],
   "source": [
    "from nltk.stem import PorterStemmer\n",
    "stemmer=PorterStemmer()\n",
    "\n",
    "def stemming(sentence):\n",
    "    stemmed=\"\"\n",
    "    for word in sentence.split():\n",
    "        \n",
    "        stem=stemmer.stem(word)\n",
    "        stemmed+=stem\n",
    "        stemmed+=\" \"\n",
    "    stemmed= stemmed.strip()\n",
    "    return stemmed\n",
    "\n",
    "books['summary']=books['summary'].apply(lambda text:stemming(text))\n",
    "books['summary'].iloc[1]\n",
    "    "
   ]
  },
  {
   "cell_type": "code",
   "execution_count": 14,
   "id": "b846568c-0017-4878-a9c8-7b35105cf217",
   "metadata": {},
   "outputs": [
    {
     "data": {
      "image/png": "[encoded data removed]",
      "text/plain": [
       "<Figure size 700x500 with 1 Axes>"
      ]
     },
     "metadata": {},
     "output_type": "display_data"
    }
   ],
   "source": [
    "freq_df = showmostfrequentwords(books['summary'],25)"
   ]
  },
  {
   "cell_type": "markdown",
   "id": "490883b7-10e8-4baf-88b6-97937d5b71e5",
   "metadata": {},
   "source": [
    "### Encoding"
   ]
  },
  {
   "cell_type": "code",
   "execution_count": 15,
   "id": "9e676952-06fd-4cc3-aace-f981f50c5967",
   "metadata": {},
   "outputs": [
    {
     "name": "stdout",
     "output_type": "stream",
     "text": [
      "{'Fantasy': 0, 'Science Fiction': 1, 'Crime Fiction': 2, 'Historical novel': 3, 'Horror': 4, 'Thriller': 5}\n"
     ]
    }
   ],
   "source": [
    "books_list=list(books['genre'].unique())\n",
    "\n",
    "encode= [i for i in range(len(books_list))]\n",
    "mapper=dict(zip(books_list,encode))\n",
    "print(mapper)"
   ]
  },
  {
   "cell_type": "code",
   "execution_count": 16,
   "id": "93151cd4-fa46-4951-baed-ea0aa7c98cc3",
   "metadata": {},
   "outputs": [
    {
     "data": {
      "text/plain": [
       "array([0, 1, 2, 3, 4, 5], dtype=int64)"
      ]
     },
     "execution_count": 16,
     "metadata": {},
     "output_type": "execute_result"
    }
   ],
   "source": [
    "books['genre']=books['genre'].map(mapper)\n",
    "books['genre'].unique()"
   ]
  },
  {
   "cell_type": "markdown",
   "id": "6937cc0f-7706-40a3-944a-7682aa3b9b71",
   "metadata": {},
   "source": [
    "### MODEL BUILDING"
   ]
  },
  {
   "cell_type": "code",
   "execution_count": 17,
   "id": "95435312-d6fa-4c1b-a3ff-916909da1891",
   "metadata": {},
   "outputs": [
    {
     "data": {
      "text/plain": [
       "<3000x1000 sparse matrix of type '<class 'numpy.int64'>'\n",
       "\twith 241405 stored elements in Compressed Sparse Row format>"
      ]
     },
     "execution_count": 17,
     "metadata": {},
     "output_type": "execute_result"
    }
   ],
   "source": [
    "count_vec=CountVectorizer(max_df=0.90,min_df=2,\n",
    "                          max_features=1000,stop_words='english')\n",
    "\n",
    "bagofword_vec= count_vec.fit_transform(books['summary'])\n",
    "bagofword_vec"
   ]
  },
  {
   "cell_type": "code",
   "execution_count": 18,
   "id": "f807bbbe-ca77-4cbc-8c95-543b11f281cf",
   "metadata": {},
   "outputs": [],
   "source": [
    "y= books['genre']\n",
    "\n",
    "X_train,X_test,y_train,y_test= train_test_split(bagofword_vec,y,test_size=0.2)"
   ]
  },
  {
   "cell_type": "markdown",
   "id": "36901ac3-a036-4036-892b-dc4c94e6417f",
   "metadata": {},
   "source": [
    "### support vector classifier"
   ]
  },
  {
   "cell_type": "code",
   "execution_count": 19,
   "id": "4bdaefbc-6069-4242-aff3-c9ac9094b7ff",
   "metadata": {},
   "outputs": [
    {
     "name": "stdout",
     "output_type": "stream",
     "text": [
      "0.5433333333333333\n"
     ]
    }
   ],
   "source": [
    "svc=SVC()\n",
    "svc.fit(X_train,y_train)\n",
    "svc_pred= svc.predict(X_test)\n",
    "print(metrics.accuracy_score(y_test,svc_pred))"
   ]
  },
  {
   "cell_type": "markdown",
   "id": "6b300c89-0e7f-454d-9599-e826cd34b1df",
   "metadata": {},
   "source": [
    "### Multinomial Naive Bayes"
   ]
  },
  {
   "cell_type": "code",
   "execution_count": 20,
   "id": "dc4f86e5-70de-40fd-8079-e90c5ea1512d",
   "metadata": {},
   "outputs": [
    {
     "name": "stdout",
     "output_type": "stream",
     "text": [
      "0.6816666666666666\n"
     ]
    }
   ],
   "source": [
    "mb=MultinomialNB()\n",
    "mb.fit(X_train,y_train)\n",
    "mb_pred=mb.predict(X_test)\n",
    "print(metrics.accuracy_score(y_test,mb_pred))"
   ]
  },
  {
   "cell_type": "markdown",
   "id": "41e707bf-8d14-4ee1-b0d2-7efb7597dc32",
   "metadata": {},
   "source": [
    "### Random Forest Classifier"
   ]
  },
  {
   "cell_type": "code",
   "execution_count": 21,
   "id": "88cd9ba3-a5ad-4d70-b7ee-e7f3b13e343d",
   "metadata": {},
   "outputs": [
    {
     "name": "stdout",
     "output_type": "stream",
     "text": [
      "0.6266666666666667\n"
     ]
    }
   ],
   "source": [
    "rf= RandomForestClassifier()\n",
    "rf.fit(X_train,y_train)\n",
    "rf_pred= rf.predict(X_test)\n",
    "print(metrics.accuracy_score(y_test,rf_pred))"
   ]
  },
  {
   "cell_type": "markdown",
   "id": "28af1220-e952-4e50-8dd6-6f3be1161502",
   "metadata": {},
   "source": [
    "### As Non of the above model is performing well, Changing CountVectorizer to TF-IDF"
   ]
  },
  {
   "cell_type": "code",
   "execution_count": 22,
   "id": "5cecd3f9-9656-4c3c-8962-b85d2417c01a",
   "metadata": {},
   "outputs": [],
   "source": [
    "X_traintf,X_testtf,y_traintf,y_testtf =train_test_split(books['summary'],y,test_size=0.2,random_state=557)"
   ]
  },
  {
   "cell_type": "code",
   "execution_count": 29,
   "id": "79fe9ba7-42cd-4b83-b24d-0f7e6e16a2e3",
   "metadata": {},
   "outputs": [],
   "source": [
    "tfidf= TfidfVectorizer(max_df=0.8,max_features=10000)\n",
    "Xtrain_tfidf= tfidf.fit_transform(X_traintf.values.astype('U'))\n",
    "Xtest_tfidf= tfidf.transform(X_testtf.values.astype('U'))"
   ]
  },
  {
   "cell_type": "code",
   "execution_count": 30,
   "id": "8a03e41c-662a-4ca5-b085-d64391ce1459",
   "metadata": {},
   "outputs": [
    {
     "name": "stdout",
     "output_type": "stream",
     "text": [
      "0.7733333333333333\n"
     ]
    }
   ],
   "source": [
    "svc = SVC()\n",
    "svc.fit(Xtrain_tfidf,y_traintf)\n",
    "svccpred = svc.predict(Xtest_tfidf)\n",
    "print(metrics.accuracy_score(y_testtf,svccpred))"
   ]
  },
  {
   "cell_type": "code",
   "execution_count": 31,
   "id": "539bc33d-2d15-485c-a581-e1caa808fcc7",
   "metadata": {},
   "outputs": [
    {
     "name": "stdout",
     "output_type": "stream",
     "text": [
      "0.775\n"
     ]
    }
   ],
   "source": [
    "mb = MultinomialNB()\n",
    "mb.fit(Xtrain_tfidf,y_train)\n",
    "mbpred = mb.predict(Xtest_tfidf)\n",
    "print(metrics.accuracy_score(y_test,mbpred))"
   ]
  },
  {
   "cell_type": "markdown",
   "id": "3a9d0e5d-24b6-44f3-b3af-bbbfe1d05c41",
   "metadata": {},
   "source": [
    "### MODEL TESTING"
   ]
  },
  {
   "cell_type": "code",
   "execution_count": 32,
   "id": "c72524fc-071d-4eac-a5db-49957ab12b3e",
   "metadata": {},
   "outputs": [],
   "source": [
    "def test(text,model):\n",
    "    text=cleantext(text)\n",
    "    text=removestopwords(text)\n",
    "    text=lematizing(text)\n",
    "    text=stemming(text)\n",
    "\n",
    "    text_vector=tfidf_vectorizer.transform([text])\n",
    "    predicted=model.predict(text_vector)\n",
    "    return predicted\n",
    "\n",
    "ans =books['summary'].apply(lambda text:test(text,mb))"
   ]
  },
  {
   "cell_type": "code",
   "execution_count": 33,
   "id": "8eda0d92-f838-45e0-97e2-f8f7c75f13f6",
   "metadata": {},
   "outputs": [
    {
     "data": {
      "text/plain": [
       "0       [0]\n",
       "1       [0]\n",
       "2       [0]\n",
       "3       [0]\n",
       "4       [0]\n",
       "       ... \n",
       "2995    [1]\n",
       "2996    [5]\n",
       "2997    [5]\n",
       "2998    [5]\n",
       "2999    [5]\n",
       "Name: summary, Length: 3000, dtype: object"
      ]
     },
     "execution_count": 33,
     "metadata": {},
     "output_type": "execute_result"
    }
   ],
   "source": [
    "ans"
   ]
  },
  {
   "cell_type": "code",
   "execution_count": 41,
   "id": "02e8772e-c3f0-4b24-bbe3-22b2a555a579",
   "metadata": {},
   "outputs": [],
   "source": [
    "predicted=[]\n",
    "\n",
    "for i in range(len(ans)):\n",
    "\n",
    "    idx_val= ans[i][0]\n",
    "    predicted.append(list(mapper.keys())[list(mapper.values()).index(idx_val)])"
   ]
  },
  {
   "cell_type": "code",
   "execution_count": 48,
   "id": "ca0c100a-791c-49a8-a5f3-21ae949eedee",
   "metadata": {},
   "outputs": [],
   "source": [
    "new_map= dict([(value,key) for key,value in mapper.items()])\n",
    "books['Actual Genre']=books['genre'].map(new_map)"
   ]
  },
  {
   "cell_type": "code",
   "execution_count": 54,
   "id": "2eb001b0-d621-4c8e-959f-16f7cccd1722",
   "metadata": {},
   "outputs": [],
   "source": [
    "books['Predicted']=np.array(predicted)"
   ]
  },
  {
   "cell_type": "code",
   "execution_count": 56,
   "id": "e3b41c1d-9c59-4a8f-ad8d-392274b7ce63",
   "metadata": {},
   "outputs": [],
   "source": [
    "books=books[['book_name','summary', 'Actual Genre','Predicted']]"
   ]
  },
  {
   "cell_type": "code",
   "execution_count": 57,
   "id": "20df176a-a287-41c9-9486-e74b5c1d7c1e",
   "metadata": {},
   "outputs": [
    {
     "data": {
      "text/html": [
       "<div>\n",
       "<style scoped>\n",
       "    .dataframe tbody tr th:only-of-type {\n",
       "        vertical-align: middle;\n",
       "    }\n",
       "\n",
       "    .dataframe tbody tr th {\n",
       "        vertical-align: top;\n",
       "    }\n",
       "\n",
       "    .dataframe thead th {\n",
       "        text-align: right;\n",
       "    }\n",
       "</style>\n",
       "<table border=\"1\" class=\"dataframe\">\n",
       "  <thead>\n",
       "    <tr style=\"text-align: right;\">\n",
       "      <th></th>\n",
       "      <th>book_name</th>\n",
       "      <th>summary</th>\n",
       "      <th>Actual Genre</th>\n",
       "      <th>Predicted</th>\n",
       "    </tr>\n",
       "  </thead>\n",
       "  <tbody>\n",
       "    <tr>\n",
       "      <th>0</th>\n",
       "      <td>Drowned Wednesday</td>\n",
       "      <td>drown wednesday first truste among morrow day ...</td>\n",
       "      <td>Fantasy</td>\n",
       "      <td>Fantasy</td>\n",
       "    </tr>\n",
       "    <tr>\n",
       "      <th>1</th>\n",
       "      <td>The Lost Hero</td>\n",
       "      <td>book open jason awaken school bu unabl rememb ...</td>\n",
       "      <td>Fantasy</td>\n",
       "      <td>Fantasy</td>\n",
       "    </tr>\n",
       "    <tr>\n",
       "      <th>2</th>\n",
       "      <td>The Eyes of the Overworld</td>\n",
       "      <td>cugel easili persuad merchant fianosth attempt...</td>\n",
       "      <td>Fantasy</td>\n",
       "      <td>Fantasy</td>\n",
       "    </tr>\n",
       "    <tr>\n",
       "      <th>3</th>\n",
       "      <td>Magic's Promise</td>\n",
       "      <td>book open heraldmag vanyel return countri vald...</td>\n",
       "      <td>Fantasy</td>\n",
       "      <td>Fantasy</td>\n",
       "    </tr>\n",
       "    <tr>\n",
       "      <th>4</th>\n",
       "      <td>Taran Wanderer</td>\n",
       "      <td>taran gurgi return caer dallben follow event t...</td>\n",
       "      <td>Fantasy</td>\n",
       "      <td>Fantasy</td>\n",
       "    </tr>\n",
       "    <tr>\n",
       "      <th>...</th>\n",
       "      <td>...</td>\n",
       "      <td>...</td>\n",
       "      <td>...</td>\n",
       "      <td>...</td>\n",
       "    </tr>\n",
       "    <tr>\n",
       "      <th>2995</th>\n",
       "      <td>White Death</td>\n",
       "      <td>novel numa file kurt austin adventur novel mai...</td>\n",
       "      <td>Thriller</td>\n",
       "      <td>Science Fiction</td>\n",
       "    </tr>\n",
       "    <tr>\n",
       "      <th>2996</th>\n",
       "      <td>Venus with Pistol</td>\n",
       "      <td>gilbert kemp dealer special antiqu gun london ...</td>\n",
       "      <td>Thriller</td>\n",
       "      <td>Thriller</td>\n",
       "    </tr>\n",
       "    <tr>\n",
       "      <th>2997</th>\n",
       "      <td>Blackwater</td>\n",
       "      <td>know your deep davey alway live shadow older b...</td>\n",
       "      <td>Thriller</td>\n",
       "      <td>Thriller</td>\n",
       "    </tr>\n",
       "    <tr>\n",
       "      <th>2998</th>\n",
       "      <td>The Rainbow and the Rose</td>\n",
       "      <td>stori concern life johnni pasco retir commerci...</td>\n",
       "      <td>Thriller</td>\n",
       "      <td>Thriller</td>\n",
       "    </tr>\n",
       "    <tr>\n",
       "      <th>2999</th>\n",
       "      <td>Chiefs</td>\n",
       "      <td>first chief henri lee novel open 1919 grow tow...</td>\n",
       "      <td>Thriller</td>\n",
       "      <td>Thriller</td>\n",
       "    </tr>\n",
       "  </tbody>\n",
       "</table>\n",
       "<p>3000 rows × 4 columns</p>\n",
       "</div>"
      ],
      "text/plain": [
       "                      book_name  \\\n",
       "0             Drowned Wednesday   \n",
       "1                 The Lost Hero   \n",
       "2     The Eyes of the Overworld   \n",
       "3               Magic's Promise   \n",
       "4                Taran Wanderer   \n",
       "...                         ...   \n",
       "2995                White Death   \n",
       "2996          Venus with Pistol   \n",
       "2997                 Blackwater   \n",
       "2998   The Rainbow and the Rose   \n",
       "2999                     Chiefs   \n",
       "\n",
       "                                                summary Actual Genre  \\\n",
       "0     drown wednesday first truste among morrow day ...      Fantasy   \n",
       "1     book open jason awaken school bu unabl rememb ...      Fantasy   \n",
       "2     cugel easili persuad merchant fianosth attempt...      Fantasy   \n",
       "3     book open heraldmag vanyel return countri vald...      Fantasy   \n",
       "4     taran gurgi return caer dallben follow event t...      Fantasy   \n",
       "...                                                 ...          ...   \n",
       "2995  novel numa file kurt austin adventur novel mai...     Thriller   \n",
       "2996  gilbert kemp dealer special antiqu gun london ...     Thriller   \n",
       "2997  know your deep davey alway live shadow older b...     Thriller   \n",
       "2998  stori concern life johnni pasco retir commerci...     Thriller   \n",
       "2999  first chief henri lee novel open 1919 grow tow...     Thriller   \n",
       "\n",
       "            Predicted  \n",
       "0             Fantasy  \n",
       "1             Fantasy  \n",
       "2             Fantasy  \n",
       "3             Fantasy  \n",
       "4             Fantasy  \n",
       "...               ...  \n",
       "2995  Science Fiction  \n",
       "2996         Thriller  \n",
       "2997         Thriller  \n",
       "2998         Thriller  \n",
       "2999         Thriller  \n",
       "\n",
       "[3000 rows x 4 columns]"
      ]
     },
     "execution_count": 57,
     "metadata": {},
     "output_type": "execute_result"
    }
   ],
   "source": [
    "books"
   ]
  },
  {
   "cell_type": "code",
   "execution_count": 58,
   "id": "a4f1123d-4c6f-4247-9df8-08b45ab60a77",
   "metadata": {},
   "outputs": [],
   "source": [
    "import pickle\n",
    "file= open(\"bookgenremodel.pkl\",'wb')\n",
    "pickle.dump(mb,file)\n",
    "file.close()"
   ]
  },
  {
   "cell_type": "code",
   "execution_count": 60,
   "id": "b41cd49b-1f44-40a8-b999-ec83ab3a3993",
   "metadata": {},
   "outputs": [],
   "source": [
    "file= open('tfidf.pkl','wb')\n",
    "pickle.dump(tfidf,file)\n",
    "file.close()"
   ]
  },
  {
   "cell_type": "code",
   "execution_count": null,
   "id": "de90fbd8-fab1-4f7e-a893-b6b78f4ac1c9",
   "metadata": {},
   "outputs": [],
   "source": []
  }
 ],
 "metadata": {
  "kernelspec": {
   "display_name": "Python 3 (ipykernel)",
   "language": "python",
   "name": "python3"
  },
  "language_info": {
   "codemirror_mode": {
    "name": "ipython",
    "version": 3
   },
   "file_extension": ".py",
   "mimetype": "text/x-python",
   "name": "python",
   "nbconvert_exporter": "python",
   "pygments_lexer": "ipython3",
   "version": "3.9.18"
  }
 },
 "nbformat": 4,
 "nbformat_minor": 5
}
